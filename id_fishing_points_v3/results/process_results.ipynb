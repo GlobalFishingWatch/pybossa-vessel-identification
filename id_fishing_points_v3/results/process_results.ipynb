{
 "cells": [
  {
   "cell_type": "code",
   "execution_count": 24,
   "metadata": {
    "collapsed": false
   },
   "outputs": [],
   "source": [
    "import json\n",
    "import urllib2\n",
    "import csv\n",
    "import pandas as pd\n",
    "import matplotlib.pyplot as plt\n",
    "# import matplotlib\n",
    "%matplotlib inline\n",
    "import os\n",
    "import seaborn as sb\n",
    "from datetime import datetime"
   ]
  },
  {
   "cell_type": "code",
   "execution_count": 25,
   "metadata": {
    "collapsed": false
   },
   "outputs": [
    {
     "data": {
      "text/plain": [
       "0"
      ]
     },
     "execution_count": 25,
     "metadata": {},
     "output_type": "execute_result"
    }
   ],
   "source": [
    "command = \"python download_results.py id_fishing_points_3\"\n",
    "os.system(command)"
   ]
  },
  {
   "cell_type": "code",
   "execution_count": 26,
   "metadata": {
    "collapsed": false
   },
   "outputs": [],
   "source": [
    "url = 'http://crowd.globalfishingwatch.org/api/user?limit=100'\n",
    "response = urllib2.urlopen(url)\n",
    "input_data = json.loads(response.read())\n",
    "\n",
    "names = {}\n",
    "for i in range(1,len(input_data)+1):\n",
    "    k = input_data[i-1]\n",
    "    names[i] = k['name']"
   ]
  },
  {
   "cell_type": "code",
   "execution_count": 27,
   "metadata": {
    "collapsed": false
   },
   "outputs": [],
   "source": [
    "\n",
    "task_ids = []\n",
    "with open('id_fishing_points_3_tasks.json') as data_file:    \n",
    "    data = json.load(data_file)\n",
    "    for d in data:\n",
    "        task_ids.append(d['id'])\n"
   ]
  },
  {
   "cell_type": "code",
   "execution_count": 28,
   "metadata": {
    "collapsed": false
   },
   "outputs": [],
   "source": [
    "\n",
    "people = {}\n",
    "with open('id_fishing_points_3_task_runs.json') as data_file:    \n",
    "    data = json.load(data_file)\n",
    "    for d in data:\n",
    "#         print d\n",
    "#         print d['task_id'], names[d['user_id']]\n",
    "        p =  names[d['user_id']]\n",
    "        t = d['finish_time']\n",
    "        t = t.split(\"T\")[0]\n",
    "        t = datetime.strptime(t,'%Y-%m-%d')\n",
    "#         print t < datetime(2016,10,9)\n",
    "        if p not in people:\n",
    "            people[p]=0\n",
    "        people[p]+=1\n",
    "#         print d\n",
    "#         break\n"
   ]
  },
  {
   "cell_type": "code",
   "execution_count": 29,
   "metadata": {
    "collapsed": false
   },
   "outputs": [
    {
     "data": {
      "text/plain": [
       "{u'Kimbra': 14,\n",
       " u'Wess': 81,\n",
       " u'aaronroan': 2,\n",
       " u'alexwilson': 17,\n",
       " u'bjornbergman': 20,\n",
       " u'christianthomas': 77,\n",
       " u'davidkroodsma': 99,\n",
       " u'davidmanthos': 7,\n",
       " u'enriquetuya': 28,\n",
       " u'langenmathew': 3,\n",
       " u'natemiller': 22,\n",
       " u'paul.woods': 49,\n",
       " u'smelo': 10,\n",
       " u'timothyhochberg': 90,\n",
       " u'vaiduke2': 198,\n",
       " u'williambradyburker': 16}"
      ]
     },
     "execution_count": 29,
     "metadata": {},
     "output_type": "execute_result"
    }
   ],
   "source": [
    "people"
   ]
  },
  {
   "cell_type": "code",
   "execution_count": 30,
   "metadata": {
    "collapsed": false
   },
   "outputs": [
    {
     "data": {
      "text/plain": [
       "<matplotlib.text.Text at 0x1114ed8d0>"
      ]
     },
     "execution_count": 30,
     "metadata": {},
     "output_type": "execute_result"
    },
    {
     "data": {
      "image/png": "[encoded data removed]",
      "text/plain": [
       "<matplotlib.figure.Figure at 0x1105ac2d0>"
      ]
     },
     "metadata": {},
     "output_type": "display_data"
    }
   ],
   "source": [
    "x = []\n",
    "y = []\n",
    "\n",
    "for p in people:\n",
    "    x.append(p)\n",
    "    y.append(people[p])\n",
    "\n",
    "df = pd.DataFrame(people.items(), columns=['person', 'tasks'])    \n",
    "\n",
    "plt.figure(figsize=(22, 5))  \n",
    "sb.barplot(x=\"person\", y=\"tasks\" ,data= df )\n",
    "plt.title(\"Pybossa Totals, All Time\", fontsize = \"20\")"
   ]
  },
  {
   "cell_type": "code",
   "execution_count": 31,
   "metadata": {
    "collapsed": false
   },
   "outputs": [
    {
     "data": {
      "text/plain": [
       "733"
      ]
     },
     "execution_count": 31,
     "metadata": {},
     "output_type": "execute_result"
    }
   ],
   "source": [
    "df['tasks'].sum()"
   ]
  },
  {
   "cell_type": "code",
   "execution_count": 32,
   "metadata": {
    "collapsed": false
   },
   "outputs": [
    {
     "data": {
      "text/plain": [
       "<matplotlib.text.Text at 0x111d37b10>"
      ]
     },
     "execution_count": 32,
     "metadata": {},
     "output_type": "execute_result"
    },
    {
     "data": {
      "image/png": "[encoded data removed]",
      "text/plain": [
       "<matplotlib.figure.Figure at 0x1105aaf90>"
      ]
     },
     "metadata": {},
     "output_type": "display_data"
    }
   ],
   "source": [
    "people_thisweek = {}\n",
    "with open('id_fishing_points_3_task_runs.json') as data_file:    \n",
    "    data = json.load(data_file)\n",
    "    for d in data:\n",
    "#         print d\n",
    "#         print d['task_id'], names[d['user_id']]\n",
    "        p =  names[d['user_id']]\n",
    "        t = d['finish_time']\n",
    "        t = t.split(\"T\")[0]\n",
    "        t = datetime.strptime(t,'%Y-%m-%d')\n",
    "        if t > datetime(2016,10,9) and t <  datetime(2016,10,17):\n",
    "            if p not in people_thisweek:\n",
    "                people_thisweek[p]=0\n",
    "            people_thisweek[p]+=1\n",
    "x = []\n",
    "y = []\n",
    "\n",
    "for p in people_thisweek:\n",
    "    x.append(p)\n",
    "    y.append(people[p])\n",
    "\n",
    "df = pd.DataFrame(people_thisweek.items(), columns=['person', 'tasks'])    \n",
    "\n",
    "plt.figure(figsize=(18, 5))  \n",
    "sb.barplot(x=\"person\", y=\"tasks\" ,data= df, )\n",
    "plt.title(\"Pybossa Challenge Week 2 Totals\")\n"
   ]
  },
  {
   "cell_type": "code",
   "execution_count": 33,
   "metadata": {
    "collapsed": false
   },
   "outputs": [
    {
     "data": {
      "text/plain": [
       "386"
      ]
     },
     "execution_count": 33,
     "metadata": {},
     "output_type": "execute_result"
    }
   ],
   "source": [
    "df['tasks'].sum()"
   ]
  },
  {
   "cell_type": "code",
   "execution_count": 34,
   "metadata": {
    "collapsed": false
   },
   "outputs": [
    {
     "data": {
      "text/plain": [
       "<matplotlib.text.Text at 0x11153d910>"
      ]
     },
     "execution_count": 34,
     "metadata": {},
     "output_type": "execute_result"
    },
    {
     "data": {
      "image/png": "[encoded data removed]",
      "text/plain": [
       "<matplotlib.figure.Figure at 0x1101e5610>"
      ]
     },
     "metadata": {},
     "output_type": "display_data"
    }
   ],
   "source": [
    "people_thisweek = {}\n",
    "with open('id_fishing_points_3_task_runs.json') as data_file:    \n",
    "    data = json.load(data_file)\n",
    "    for d in data:\n",
    "#         print d\n",
    "#         print d['task_id'], names[d['user_id']]\n",
    "        p =  names[d['user_id']]\n",
    "        t = d['finish_time']\n",
    "        t = t.split(\"T\")[0]\n",
    "        t = datetime.strptime(t,'%Y-%m-%d')\n",
    "        if t > datetime(2016,10,16) and t <  datetime(2016,10,24):\n",
    "            if p not in people_thisweek:\n",
    "                people_thisweek[p]=0\n",
    "            people_thisweek[p]+=1\n",
    "x = []\n",
    "y = []\n",
    "\n",
    "for p in people_thisweek:\n",
    "    x.append(p)\n",
    "    y.append(people[p])\n",
    "\n",
    "df = pd.DataFrame(people_thisweek.items(), columns=['person', 'tasks'])    \n",
    "\n",
    "plt.figure(figsize=(18, 5))  \n",
    "sb.barplot(x=\"person\", y=\"tasks\" ,data= df, )\n",
    "plt.title(\"Pybossa Challenge Week 3 Totals\")"
   ]
  },
  {
   "cell_type": "code",
   "execution_count": 23,
   "metadata": {
    "collapsed": false
   },
   "outputs": [
    {
     "data": {
      "text/plain": [
       "93"
      ]
     },
     "execution_count": 23,
     "metadata": {},
     "output_type": "execute_result"
    }
   ],
   "source": [
    "df['tasks'].sum()"
   ]
  },
  {
   "cell_type": "code",
   "execution_count": null,
   "metadata": {
    "collapsed": true
   },
   "outputs": [],
   "source": []
  }
 ],
 "metadata": {
  "kernelspec": {
   "display_name": "Python 2",
   "language": "python",
   "name": "python2"
  },
  "language_info": {
   "codemirror_mode": {
    "name": "ipython",
    "version": 2
   },
   "file_extension": ".py",
   "mimetype": "text/x-python",
   "name": "python",
   "nbconvert_exporter": "python",
   "pygments_lexer": "ipython2",
   "version": "2.7.3"
  }
 },
 "nbformat": 4,
 "nbformat_minor": 0
}
