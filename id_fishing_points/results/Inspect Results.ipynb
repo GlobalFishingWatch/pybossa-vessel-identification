{
 "cells": [
  {
   "cell_type": "code",
   "execution_count": 1,
   "metadata": {
    "collapsed": true
   },
   "outputs": [],
   "source": [
    "import json"
   ]
  },
  {
   "cell_type": "code",
   "execution_count": 42,
   "metadata": {
    "collapsed": true
   },
   "outputs": [],
   "source": [
    "project_name = \"id_fishing_points\""
   ]
  },
  {
   "cell_type": "code",
   "execution_count": 43,
   "metadata": {
    "collapsed": false
   },
   "outputs": [],
   "source": [
    "f = open(project_name+'_tasks.json', 'rU')\n",
    "tasks = json.loads(f.read())\n",
    "f.close()\n",
    "\n",
    "f = open(project_name+'_task_runs.json','rU')\n",
    "task_runs = json.loads(f.read())\n",
    "f.close()"
   ]
  },
  {
   "cell_type": "code",
   "execution_count": 44,
   "metadata": {
    "collapsed": true
   },
   "outputs": [],
   "source": [
    "# was easier to copy and paste http://crowd.globalfishingwatch.org/api/user?limit=100 then programatically\n",
    "# download it, but that also means that you probably have to go and get this data again if it is updatedçy\n",
    "users = [{\"locale\": \"en\", \"name\": \"davidkroodsma\", \"created\": \"2016-01-01T19:02:37.484806\", \"fullname\": \"David Kroodsma\"}, {\"locale\": \"en\", \"name\": \"bjornbergman\", \"created\": \"2016-01-02T17:41:56.596637\", \"fullname\": \"Bjorn Bergman\"}, {\"locale\": \"en\", \"name\": \"davidkroodsmathe2nd\", \"created\": \"2016-01-08T03:05:25.181515\", \"fullname\": \"David Kroodsma the 2nd\"}, {\"locale\": \"en\", \"name\": \"alexwilson\", \"created\": \"2016-01-08T08:38:31.791302\", \"fullname\": \"Alex Wilson\"}, {\"locale\": \"en\", \"name\": \"chris\", \"created\": \"2016-01-08T17:04:58.441540\", \"fullname\": \"Chris\"}, {\"locale\": \"en\", \"name\": \"enriquetuya\", \"created\": \"2016-01-19T15:46:18.012860\", \"fullname\": \"Enrique Tuya\"}, {\"locale\": \"en\", \"name\": \"kristinaboerder\", \"created\": \"2016-01-19T18:57:51.891476\", \"fullname\": \"Kristina Boerder\"}, {\"locale\": \"en\", \"name\": \"vaiduke2\", \"created\": \"2016-01-21T15:03:22.087286\", \"fullname\": \"Vaida Lilionyte\"}, {\"locale\": \"en\", \"name\": \"katepepler\", \"created\": \"2016-02-01T16:24:38.348003\", \"fullname\": \"Kate Pepler\"}, {\"locale\": \"en\", \"name\": \"stephanielewis\", \"created\": \"2016-02-01T16:56:45.814824\", \"fullname\": \"Stephanie Lewis\"}, {\"locale\": \"en\", \"name\": \"AlexCerra\", \"created\": \"2016-02-01T19:16:51.470060\", \"fullname\": \"Alexander Cerra\"}, {\"locale\": \"en\", \"name\": \"juliecharbonneau\", \"created\": \"2016-02-01T23:07:18.623497\", \"fullname\": \"Julie Charbonneau\"}, {\"locale\": \"en\", \"name\": \"ninagalle\", \"created\": \"2016-02-02T03:20:45.923182\", \"fullname\": \"Nina Galle\"}, {\"locale\": \"en\", \"name\": \"sidneyblack-rotchin\", \"created\": \"2016-02-02T15:15:18.889919\", \"fullname\": \"Sidney Black-Rotchin\"}, {\"locale\": \"en\", \"name\": \"daivdtest\", \"created\": \"2016-02-04T18:25:16.909258\", \"fullname\": \"David\"}, {\"locale\": \"en\", \"name\": \"cailinburmaster\", \"created\": \"2016-02-04T19:07:46.558313\", \"fullname\": \"Cailin Burmaster\"}, {\"locale\": \"en\", \"name\": \"elizabethnagel\", \"created\": \"2016-02-04T19:55:55.974887\", \"fullname\": \"Elizabeth Nagel\"}, {\"locale\": \"en\", \"name\": \"isabelfleisher\", \"created\": \"2016-02-07T21:03:22.224515\", \"fullname\": \"isabel fleisher\"}, {\"locale\": \"en\", \"name\": \"ciarawillis\", \"created\": \"2016-02-10T00:50:03.605317\", \"fullname\": \"Ciara Willis\"}, {\"locale\": \"en\", \"name\": \"clairechristie\", \"created\": \"2016-02-10T01:50:44.444883\", \"fullname\": \"Claire Christie \"}, {\"locale\": \"en\", \"name\": \"paul.woods\", \"created\": \"2016-02-16T16:20:22.282979\", \"fullname\": \"Paul\"}, {\"locale\": \"en\", \"name\": \"davidkroodsmatest2\", \"created\": \"2016-03-18T16:31:43.165603\", \"fullname\": \"David\"}, {\"locale\": \"en\", \"name\": \"timothyhochberg\", \"created\": \"2016-04-09T01:33:11.060203\", \"fullname\": \"Timothy Hochberg\"}, {\"locale\": \"en\", \"name\": \"williambradyburker\", \"created\": \"2016-05-06T17:09:11.438463\", \"fullname\": \"William Brady Burker\"}, {\"locale\": \"en\", \"name\": \"ninafgalle\", \"created\": \"2016-05-22T16:05:48.029509\", \"fullname\": \"Nina F Galle\"}, {\"locale\": \"en\", \"name\": \"alisunmeske\", \"created\": \"2016-06-13T14:08:17.782299\", \"fullname\": \"Alisun Meske\"}]"
   ]
  },
  {
   "cell_type": "code",
   "execution_count": 45,
   "metadata": {
    "collapsed": false
   },
   "outputs": [
    {
     "name": "stdout",
     "output_type": "stream",
     "text": [
      "{\"mmsi\":\"224082260\",\"vesselType\":\"Longliner\",\"text_notes\":\"\",\"confidence\":\"no_confidence\",\"fishingArrayString\":\"00000000000000000000000000000000000000000000000000000000000000000000000000000000000000000000000000000000000000000000000000000000000000000000000000000000000000000000000000000000000000000000000000000000000000000000000000000000000000000000000000000000000000000000000000000000000000000000000000000000000000000000000000000000000000000000000000000000000000000000000000000000000000000000000000000000000000000000000000000000000000000000000000000000000000000000000000000000000000000000000000000000000000000000000000000000000000000000000000000000000000000000000000000000000000000000000000000000000000000000000000000000000000000000000000000000000000000000000000000000000000000000000000000000000000000000000000000000000000000000000000000000000000000000000000000000000000000000000000000000000000000000000000000000000000000000000000000000000000000000000000000000000000000000000000000000000000000000000000000000000000000000000000000000000000000000000000000000000000000000000000000000000000000000000000000000000000000000000000000000000000000000000000000000000000000000000000000000000000000000000000000000000000000000000000000000000000000000000000000000000000000000000000000000000000000000000000000000000000000000000000000000000000000000000000000000000000000000000000000000000000000000000000000000000000000000000000000000000000000000000000000000000000000000000000000000000000000000000000000000000000000000000000000000000000000000000000000000000000000000000000000000000000000000000000000000000000000000000000000000000000000000000000000000000000000000000000000000000000000000000000000000000000000000000000000000000000000000000000000000000000000000000000000000000000000000000000000000000000000000000000000000000000000000000000000000000000000000000000000000000000000000000000000000000000000000000000000000000000000000000000000000000000000000000000000000000000000000000000000000000000000000000000000000000000000000000000000000000000000000000000000000000000000000000000000000000000000000000000000000000000000000000000000000000000000000000000000000000000000000000000000000000000000000000000000000000000000000000000000000000000000000000000000000000000000000000000000000000000000000000000000000000000000000000000000000000000000000000000000000000000000000000000000000000000000000000000000000000000000000000000000000000000000000000000000000000000\"}\n"
     ]
    }
   ],
   "source": [
    "for r in task_runs:\n",
    "    print r['info']\n",
    "    break\n",
    "    "
   ]
  },
  {
   "cell_type": "code",
   "execution_count": 46,
   "metadata": {
    "collapsed": false
   },
   "outputs": [
    {
     "ename": "KeyError",
     "evalue": "'label'",
     "output_type": "error",
     "traceback": [
      "\u001b[0;31m---------------------------------------------------------------------------\u001b[0m",
      "\u001b[0;31mKeyError\u001b[0m                                  Traceback (most recent call last)",
      "\u001b[0;32m<ipython-input-46-e2f8d38ee2d4>\u001b[0m in \u001b[0;36m<module>\u001b[0;34m()\u001b[0m\n\u001b[1;32m      1\u001b[0m \u001b[0mtasks_mmsi\u001b[0m \u001b[0;34m=\u001b[0m \u001b[0;34m{\u001b[0m\u001b[0;34m}\u001b[0m\u001b[0;34m\u001b[0m\u001b[0m\n\u001b[1;32m      2\u001b[0m \u001b[0;32mfor\u001b[0m \u001b[0mt\u001b[0m \u001b[0;32min\u001b[0m \u001b[0mtasks\u001b[0m\u001b[0;34m:\u001b[0m\u001b[0;34m\u001b[0m\u001b[0m\n\u001b[0;32m----> 3\u001b[0;31m     \u001b[0mtasks_mmsi\u001b[0m\u001b[0;34m[\u001b[0m\u001b[0;34m'id'\u001b[0m\u001b[0;34m]\u001b[0m\u001b[0;34m=\u001b[0m \u001b[0;34m{\u001b[0m\u001b[0;34m'mmsi'\u001b[0m\u001b[0;34m:\u001b[0m \u001b[0mt\u001b[0m\u001b[0;34m[\u001b[0m\u001b[0;34m'info'\u001b[0m\u001b[0;34m]\u001b[0m\u001b[0;34m[\u001b[0m\u001b[0;34m'mmsi'\u001b[0m\u001b[0;34m]\u001b[0m\u001b[0;34m,\u001b[0m \u001b[0;34m'label'\u001b[0m\u001b[0;34m:\u001b[0m \u001b[0mt\u001b[0m\u001b[0;34m[\u001b[0m\u001b[0;34m'info'\u001b[0m\u001b[0;34m]\u001b[0m\u001b[0;34m[\u001b[0m\u001b[0;34m'label'\u001b[0m\u001b[0;34m]\u001b[0m\u001b[0;34m}\u001b[0m\u001b[0;34m\u001b[0m\u001b[0m\n\u001b[0m",
      "\u001b[0;31mKeyError\u001b[0m: 'label'"
     ]
    }
   ],
   "source": [
    "tasks_mmsi = {}\n",
    "for t in tasks:\n",
    "    tasks_mmsi['id']= {'mmsi': t['info']['mmsi'], 'label': t['info']['label']}\n"
   ]
  },
  {
   "cell_type": "code",
   "execution_count": 21,
   "metadata": {
    "collapsed": false,
    "scrolled": false
   },
   "outputs": [
    {
     "name": "stdout",
     "output_type": "stream",
     "text": [
      "['David Kroodsma the 2nd', 'Alex Wilson', 'David Kroodsma', 'Chris', 'Vaida Lilionyte']\n"
     ]
    }
   ],
   "source": [
    "results = {}\n",
    "the_users = []\n",
    "\n",
    "for r in task_runs:\n",
    "    task_id = r['task_id']\n",
    "    \n",
    "    vtype = r['info']\n",
    "    user = users[r['user_id']-1]['fullname']\n",
    "    if user not in the_users:\n",
    "        the_users.append(user)\n",
    "    if task_id not in results:\n",
    "        results[task_id]={}\n",
    "    results[task_id][user] = vtype\n",
    "    results[task_id]['mmsi'] = \n",
    "    results[task_id]['url'] = \"http://crowd.globalfishingwatch.org/project/\"+project_name+\"/task/\"+str(task_id)\n",
    "    \n",
    "print the_users\n",
    "\n"
   ]
  },
  {
   "cell_type": "code",
   "execution_count": 22,
   "metadata": {
    "collapsed": true
   },
   "outputs": [],
   "source": [
    "for r in results:\n",
    "    for t in the_users:\n",
    "        if t not in results[r]:\n",
    "            results[r][t]=''"
   ]
  },
  {
   "cell_type": "code",
   "execution_count": null,
   "metadata": {
    "collapsed": true
   },
   "outputs": [],
   "source": [
    "header = ['url','mmsi'] + the_users\n",
    "rows = []\n",
    "for r in results:\n",
    "    row = [results[r]['url'],results[r]['mmsi']]\n",
    "    for t in the_users:\n",
    "        row += [results[r][t]]\n",
    "    rows.append(row)\n",
    "\n"
   ]
  }
 ],
 "metadata": {
  "kernelspec": {
   "display_name": "Python 2",
   "language": "python",
   "name": "python2"
  },
  "language_info": {
   "codemirror_mode": {
    "name": "ipython",
    "version": 2
   },
   "file_extension": ".py",
   "mimetype": "text/x-python",
   "name": "python",
   "nbconvert_exporter": "python",
   "pygments_lexer": "ipython2",
   "version": "2.7.3"
  }
 },
 "nbformat": 4,
 "nbformat_minor": 0
}
