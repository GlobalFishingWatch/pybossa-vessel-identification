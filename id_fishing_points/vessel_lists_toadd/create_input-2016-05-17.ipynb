{
 "cells": [
  {
   "cell_type": "code",
   "execution_count": 12,
   "metadata": {
    "collapsed": true
   },
   "outputs": [],
   "source": [
    "import csv"
   ]
  },
  {
   "cell_type": "code",
   "execution_count": 13,
   "metadata": {
    "collapsed": false
   },
   "outputs": [],
   "source": [
    "mmsis = {}\n",
    "tasks = {}\n",
    "\n",
    "with open('FishingVesselsV2_HighConfidenceStudents_20160314_agreement_K.csv', 'rU') as csvfile:\n",
    "    reader = csv.DictReader(csvfile)\n",
    "    for row in reader:\n",
    "#         print row['mmsi'], row['student_label']\n",
    "        mmsis[row['mmsi']] = row['student_label']"
   ]
  },
  {
   "cell_type": "code",
   "execution_count": 14,
   "metadata": {
    "collapsed": false
   },
   "outputs": [
    {
     "name": "stdout",
     "output_type": "stream",
     "text": [
      "224104340\n",
      "224154000\n",
      "226220000\n",
      "227579000\n",
      "237149000\n",
      "245369000\n",
      "246161000\n",
      "247073090\n",
      "247081680\n",
      "247149410\n",
      "250103560\n",
      "251030110\n",
      "271072496\n",
      "367064000\n",
      "431802000\n",
      "520171000\n",
      "540002200\n",
      "701000880\n",
      "701027000\n",
      "725000261\n"
     ]
    }
   ],
   "source": [
    "with open('map_tasks_20160304.csv', 'rU') as csvfile:\n",
    "    reader = csv.DictReader(csvfile)\n",
    "    for row in reader:\n",
    "        mmsi = row['mmsi']\n",
    "        if mmsi in mmsis:\n",
    "            print mmsi\n",
    "            tasks[mmsi] = {}\n",
    "#             months_2014 = row['months_2014'].split(\",\")\n",
    "            months_2015 = row['months_2015'].split(\",\")\n",
    "#             tasks[mmsi]['2014'] = months_2014\n",
    "            tasks[mmsi]['2015'] = months_2015"
   ]
  },
  {
   "cell_type": "code",
   "execution_count": 15,
   "metadata": {
    "collapsed": false
   },
   "outputs": [
    {
     "name": "stdout",
     "output_type": "stream",
     "text": [
      "211315630\n",
      "224014850\n",
      "224047430\n",
      "224068340\n",
      "224072870\n",
      "224233000\n",
      "224239970\n",
      "224526000\n",
      "224792000\n",
      "224854000\n",
      "224992000\n",
      "225019240\n",
      "227468000\n",
      "228236000\n",
      "228380000\n",
      "231010000\n"
     ]
    }
   ],
   "source": [
    "with open('map_tasks_20160317.csv', 'rU') as csvfile:\n",
    "    reader = csv.DictReader(csvfile)\n",
    "    for row in reader:\n",
    "        mmsi = row['mmsi']\n",
    "        if mmsi in mmsis:\n",
    "            print mmsi\n",
    "            tasks[mmsi] = {}\n",
    "#             months_2014 = row['months_2014'].split(\",\")\n",
    "            months_2015 = row['months_2015'].split(\",\")\n",
    "#             tasks[mmsi]['2014'] = months_2014\n",
    "            tasks[mmsi]['2015'] = months_2015"
   ]
  },
  {
   "cell_type": "code",
   "execution_count": 16,
   "metadata": {
    "collapsed": false
   },
   "outputs": [],
   "source": [
    "rows = []\n",
    "for t in tasks:\n",
    "#     for m in tasks[t]['2014']:\n",
    "#         row.append([t,'2014',m, mmsis[t]])\n",
    "    for m in tasks[t]['2015']:\n",
    "        rows.append([t,'2015',m, mmsis[t]])"
   ]
  },
  {
   "cell_type": "code",
   "execution_count": 17,
   "metadata": {
    "collapsed": true
   },
   "outputs": [],
   "source": [
    "with open('map_tasks_20160517.csv', 'wb') as f:\n",
    "    writer = csv.writer(f)\n",
    "    writer.writerow([\"mmsi\",\"year\",\"month\",\"vesselType\"])\n",
    "    writer.writerows(rows)"
   ]
  },
  {
   "cell_type": "code",
   "execution_count": null,
   "metadata": {
    "collapsed": true
   },
   "outputs": [],
   "source": []
  }
 ],
 "metadata": {
  "kernelspec": {
   "display_name": "Python 2",
   "language": "python",
   "name": "python2"
  },
  "language_info": {
   "codemirror_mode": {
    "name": "ipython",
    "version": 2
   },
   "file_extension": ".py",
   "mimetype": "text/x-python",
   "name": "python",
   "nbconvert_exporter": "python",
   "pygments_lexer": "ipython2",
   "version": "2.7.3"
  }
 },
 "nbformat": 4,
 "nbformat_minor": 0
}
