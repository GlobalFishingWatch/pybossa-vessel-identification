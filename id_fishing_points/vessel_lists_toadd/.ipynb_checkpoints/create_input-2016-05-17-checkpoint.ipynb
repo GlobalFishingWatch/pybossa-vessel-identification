{
 "cells": [
  {
   "cell_type": "code",
   "execution_count": 3,
   "metadata": {
    "collapsed": true
   },
   "outputs": [],
   "source": [
    "import csv"
   ]
  },
  {
   "cell_type": "code",
   "execution_count": 14,
   "metadata": {
    "collapsed": false
   },
   "outputs": [],
   "source": [
    "mmsis = {}\n",
    "tasks = {}\n",
    "\n",
    "with open('FishingVesselsV1.csv', 'rU') as csvfile:\n",
    "    reader = csv.DictReader(csvfile)\n",
    "    for row in reader:\n",
    "#         print row['mmsi'], row['student_label']\n",
    "        mmsis[row['mmsi']] = row['student_label']"
   ]
  },
  {
   "cell_type": "code",
   "execution_count": 15,
   "metadata": {
    "collapsed": false
   },
   "outputs": [
    {
     "name": "stdout",
     "output_type": "stream",
     "text": [
      "224020170\n",
      "224082260\n",
      "227146300\n",
      "227503000\n",
      "431796000\n",
      "432564000\n"
     ]
    }
   ],
   "source": [
    "with open('map_tasks_20160224.csv', 'rU') as csvfile:\n",
    "    reader = csv.DictReader(csvfile)\n",
    "    for row in reader:\n",
    "        mmsi = row['mmsi']\n",
    "        if mmsi in mmsis:\n",
    "            print mmsi\n",
    "            tasks[mmsi] = {}\n",
    "            months_2014 = row['months_2014'].split(\",\")\n",
    "            months_2015 = row['months_2015'].split(\",\")\n",
    "            tasks[mmsi]['2014'] = months_2014\n",
    "            tasks[mmsi]['2015'] = months_2015"
   ]
  },
  {
   "cell_type": "code",
   "execution_count": 16,
   "metadata": {
    "collapsed": false
   },
   "outputs": [
    {
     "name": "stdout",
     "output_type": "stream",
     "text": [
      "227101600\n",
      "247155210\n",
      "224055250\n",
      "701000662\n",
      "247051730\n",
      "265502370\n",
      "261008070\n",
      "224094160\n",
      "271072382\n",
      "247121880\n",
      "228282000\n",
      "247143580\n",
      "231045000\n",
      "224020790\n",
      "431702990\n",
      "228258000\n",
      "205155000\n"
     ]
    }
   ],
   "source": [
    "with open('tasks_months.csv', 'rU') as csvfile:\n",
    "    reader = csv.DictReader(csvfile)\n",
    "    for row in reader:\n",
    "        mmsi = row['mmsi']\n",
    "        if mmsi in mmsis:\n",
    "            print mmsi\n",
    "            tasks[mmsi] = {}\n",
    "            months_2014 = row['months_2014'].split(\",\")\n",
    "            months_2015 = row['months_2015'].split(\",\")\n",
    "            tasks[mmsi]['2014'] = months_2014\n",
    "            tasks[mmsi]['2015'] = months_2015"
   ]
  },
  {
   "cell_type": "code",
   "execution_count": 28,
   "metadata": {
    "collapsed": false
   },
   "outputs": [],
   "source": [
    "rows = []\n",
    "for t in tasks:\n",
    "    for m in tasks[t]['2014']:\n",
    "        row.append([t,'2014',m, mmsis[t]])\n",
    "    for m in tasks[t]['2015']:\n",
    "        rows.append([t,'2015',m, mmsis[t]])"
   ]
  },
  {
   "cell_type": "code",
   "execution_count": 29,
   "metadata": {
    "collapsed": true
   },
   "outputs": [],
   "source": [
    "with open('map_tasks_20160512.csv', 'wb') as f:\n",
    "    writer = csv.writer(f)\n",
    "    writer.writerow([\"mmsi\",\"year\",\"month\",\"vesselType\"])\n",
    "    writer.writerows(rows)"
   ]
  },
  {
   "cell_type": "code",
   "execution_count": null,
   "metadata": {
    "collapsed": true
   },
   "outputs": [],
   "source": []
  }
 ],
 "metadata": {
  "kernelspec": {
   "display_name": "Python 2",
   "language": "python",
   "name": "python2"
  },
  "language_info": {
   "codemirror_mode": {
    "name": "ipython",
    "version": 2
   },
   "file_extension": ".py",
   "mimetype": "text/x-python",
   "name": "python",
   "nbconvert_exporter": "python",
   "pygments_lexer": "ipython2",
   "version": "2.7.3"
  }
 },
 "nbformat": 4,
 "nbformat_minor": 0
}
