{
 "cells": [
  {
   "cell_type": "code",
   "execution_count": 3,
   "metadata": {
    "collapsed": false
   },
   "outputs": [],
   "source": [
    "import csv\n",
    "import time\n",
    "import numpy as np\n",
    "import pandas as pd\n",
    "import matplotlib.pyplot as plt\n",
    "%matplotlib inline\n",
    "import csv"
   ]
  },
  {
   "cell_type": "code",
   "execution_count": 5,
   "metadata": {
    "collapsed": false
   },
   "outputs": [
    {
     "name": "stdout",
     "output_type": "stream",
     "text": [
      "Requesting query... ok.\n",
      "Query running...\n",
      "Query done.\n",
      "Cache hit.\n",
      "\n",
      "Retrieving results...\n",
      "Got 286 rows.\n",
      "\n",
      "Total time taken 1.23 s.\n",
      "Finished at 2017-01-06 09:39:51.\n"
     ]
    }
   ],
   "source": [
    "q = '''SELECT code FROM [world-fishing-827:scratch_david.country_codes] \n",
    "where iso3 != \"CHN\"'''\n",
    "nc = pd.io.gbq.read_gbq(q,project_id=\"world-fishing-827\")\n",
    "non_chinese_codes = list(nc['code'])"
   ]
  },
  {
   "cell_type": "code",
   "execution_count": 9,
   "metadata": {
    "collapsed": true
   },
   "outputs": [],
   "source": [
    "df = pd.read_csv('random_mmsi_20161117.csv')\n",
    "already = list(df['mmsi'])"
   ]
  },
  {
   "cell_type": "code",
   "execution_count": 30,
   "metadata": {
    "collapsed": false
   },
   "outputs": [],
   "source": [
    "mmsi = []\n",
    "with open('2015.txt', 'rU') as f:\n",
    "    lines = f.readlines()\n",
    "    for l in lines:\n",
    "        if len(l)==10 and int(l[:3]) in non_chinese_codes and int(l[:9]) not in already:\n",
    "            mmsi.append(l)"
   ]
  },
  {
   "cell_type": "code",
   "execution_count": 33,
   "metadata": {
    "collapsed": true
   },
   "outputs": [],
   "source": [
    "import random\n",
    "random_mmsi = random.sample(mmsi, 750)"
   ]
  },
  {
   "cell_type": "code",
   "execution_count": 34,
   "metadata": {
    "collapsed": false
   },
   "outputs": [],
   "source": [
    "for i in range(3):\n",
    "    with open(\"random_mmsi_\"+str(i), 'w') as f:\n",
    "        f.write(\"mmsi\\n\")\n",
    "        for m in random_mmsi[i*250:i*250+250]:\n",
    "            f.write(m)\n"
   ]
  },
  {
   "cell_type": "code",
   "execution_count": 14,
   "metadata": {
    "collapsed": true
   },
   "outputs": [],
   "source": [
    "general_to_fishing = {'Passenger':\"Non-fishing\",\n",
    "                     'Tug/Pilot/Supply':\"Non-fishing\",\n",
    "                     'Cargo/Tanker': \"Non-fishing\",\n",
    "                     \"Seismic vessel\": \"Non-fishing\",\n",
    "                     \"Drifting longlines\":\"Fishing\",\n",
    "                     \"Pole and line\":\"Fishing\",\n",
    "                     \"Purse seines\":\"Fishing\",\n",
    "                     \"Reefer\":\"Non-fishing\", # this is debatable\n",
    "                     \"Set gear\":\"Fishing\",\n",
    "                     \"Squid\":\"Fishing\",\n",
    "                      \"Trawlers\":\"Fishing\",\n",
    "                      \"Trollers\":\"Fishing\",\n",
    "                      \"Fishing vessel\":\"Fishing\",\n",
    "                     }\n",
    "\n",
    "detail_to_general = {'Sailing':'Passenger',\n",
    "                    'Motor passenger':'Passenger',\n",
    "                    'Passenger':'Passenger',\n",
    "                    'Tug':'Tug/Pilot/Supply',\n",
    "                    'Pilot':'Tug/Pilot/Supply',\n",
    "                    'Supply':'Tug/Pilot/Supply',\n",
    "                    'Tug/Pilot/Supply':'Tug/Pilot/Supply',\n",
    "                    'Cargo':'Cargo/Tanker',\n",
    "                    'Tanker':'Cargo/Tanker',\n",
    "                    'Cargo/Tanker':'Cargo/Tanker',\n",
    "                    'Seismic vessel':'Seismic vessel',\n",
    "                    'Drifting longlines':'Drifting longlines',\n",
    "                    'Set longlines':'Set gear', \n",
    "                    'Pole and line':'Pole and line',\n",
    "                    'Pots and traps':'Set gear',\n",
    "                    'Purse seines':'Purse seines',\n",
    "                    'Reefer':'Reefer',\n",
    "                    'Set gillnets':'Set gear',\n",
    "                    'Trawlers':'Trawlers',\n",
    "                    'Trollers':'Trollers',\n",
    "                     'Fishing vessel':'Fishing vessel',\n",
    "                     \"Squid\":\"Squid\"\n",
    "                    }"
   ]
  },
  {
   "cell_type": "code",
   "execution_count": 15,
   "metadata": {
    "collapsed": false
   },
   "outputs": [
    {
     "name": "stdout",
     "output_type": "stream",
     "text": [
      "<input type=\"radio\" name=\"group2\" value=\"Trawlers\">Trawlers<br>\n",
      "<input type=\"radio\" name=\"group2\" value=\"Pole and line\">Pole and line<br>\n",
      "<input type=\"radio\" name=\"group2\" value=\"Set gear\">Set gear<br>\n",
      "<input type=\"radio\" name=\"group2\" value=\"Purse seines\">Purse seines<br>\n",
      "<input type=\"radio\" name=\"group2\" value=\"Drifting longlines\">Drifting longlines<br>\n",
      "<input type=\"radio\" name=\"group2\" value=\"Trollers\">Trollers<br>\n",
      "<input type=\"radio\" name=\"group2\" value=\"Squid\">Squid<br>\n",
      "<input type=\"radio\" name=\"group2\" value=\"Fishing vessel\">Fishing vessel<br>\n",
      "<input type=\"radio\" name=\"group2\" value=\"Passenger\">Passenger<br>\n",
      "<input type=\"radio\" name=\"group2\" value=\"Cargo/Tanker\">Cargo/Tanker<br>\n",
      "<input type=\"radio\" name=\"group2\" value=\"Seismic vessel\">Seismic vessel<br>\n",
      "<input type=\"radio\" name=\"group2\" value=\"Reefer\">Reefer<br>\n",
      "<input type=\"radio\" name=\"group2\" value=\"Tug/Pilot/Supply\">Tug/Pilot/Supply<br>\n"
     ]
    }
   ],
   "source": [
    "\n",
    "for g in general_to_fishing:\n",
    "    if general_to_fishing[g]==\"Fishing\":\n",
    "        print '<input type=\"radio\" name=\"group2\" value=\"{0}\">{0}<br>'.format(g)\n",
    "\n",
    "        \n",
    "for g in general_to_fishing:\n",
    "    if general_to_fishing[g]!=\"Fishing\":\n",
    "        print '<input type=\"radio\" name=\"group2\" value=\"{0}\">{0}<br>'.format(g)\n"
   ]
  },
  {
   "cell_type": "code",
   "execution_count": 16,
   "metadata": {
    "collapsed": false
   },
   "outputs": [
    {
     "name": "stdout",
     "output_type": "stream",
     "text": [
      "<input type=\"radio\" name=\"group3\" value=\"Set gillnets\">Set gillnets<br>\n",
      "<input type=\"radio\" name=\"group3\" value=\"Trawlers\">Trawlers<br>\n",
      "<input type=\"radio\" name=\"group3\" value=\"Pole and line\">Pole and line<br>\n",
      "<input type=\"radio\" name=\"group3\" value=\"Set longlines\">Set longlines<br>\n",
      "<input type=\"radio\" name=\"group3\" value=\"Purse seines\">Purse seines<br>\n",
      "<input type=\"radio\" name=\"group3\" value=\"Pots and traps\">Pots and traps<br>\n",
      "<input type=\"radio\" name=\"group3\" value=\"Drifting longlines\">Drifting longlines<br>\n",
      "<input type=\"radio\" name=\"group3\" value=\"Trollers\">Trollers<br>\n",
      "<input type=\"radio\" name=\"group3\" value=\"Squid\">Squid<br>\n",
      "<input type=\"radio\" name=\"group3\" value=\"Fishing vessel\">Fishing vessel<br>\n",
      "<input type=\"radio\" name=\"group3\" value=\"Cargo\">Cargo<br>\n",
      "<input type=\"radio\" name=\"group3\" value=\"Cargo/Tanker\">Cargo/Tanker<br>\n",
      "<input type=\"radio\" name=\"group3\" value=\"Seismic vessel\">Seismic vessel<br>\n",
      "<input type=\"radio\" name=\"group3\" value=\"Motor passenger\">Motor passenger<br>\n",
      "<input type=\"radio\" name=\"group3\" value=\"Pilot\">Pilot<br>\n",
      "<input type=\"radio\" name=\"group3\" value=\"Sailing\">Sailing<br>\n",
      "<input type=\"radio\" name=\"group3\" value=\"Tanker\">Tanker<br>\n",
      "<input type=\"radio\" name=\"group3\" value=\"Passenger\">Passenger<br>\n",
      "<input type=\"radio\" name=\"group3\" value=\"Supply\">Supply<br>\n",
      "<input type=\"radio\" name=\"group3\" value=\"Reefer\">Reefer<br>\n",
      "<input type=\"radio\" name=\"group3\" value=\"Tug\">Tug<br>\n",
      "<input type=\"radio\" name=\"group3\" value=\"Tug/Pilot/Supply\">Tug/Pilot/Supply<br>\n"
     ]
    }
   ],
   "source": [
    "\n",
    "for g in detail_to_general:\n",
    "    if general_to_fishing[detail_to_general[g]] == 'Fishing':\n",
    "        print '<input type=\"radio\" name=\"group3\" value=\"{0}\">{0}<br>'.format(g)\n",
    "        \n",
    "\n",
    "for g in detail_to_general:\n",
    "    if general_to_fishing[detail_to_general[g]] != 'Fishing':\n",
    "        print '<input type=\"radio\" name=\"group3\" value=\"{0}\">{0}<br>'.format(g)\n",
    "             \n"
   ]
  },
  {
   "cell_type": "code",
   "execution_count": null,
   "metadata": {
    "collapsed": true
   },
   "outputs": [],
   "source": []
  }
 ],
 "metadata": {
  "kernelspec": {
   "display_name": "Python 2",
   "language": "python",
   "name": "python2"
  },
  "language_info": {
   "codemirror_mode": {
    "name": "ipython",
    "version": 2
   },
   "file_extension": ".py",
   "mimetype": "text/x-python",
   "name": "python",
   "nbconvert_exporter": "python",
   "pygments_lexer": "ipython2",
   "version": "2.7.13"
  }
 },
 "nbformat": 4,
 "nbformat_minor": 0
}
