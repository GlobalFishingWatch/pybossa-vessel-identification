{
 "cells": [
  {
   "cell_type": "code",
   "execution_count": 1,
   "metadata": {
    "collapsed": true
   },
   "outputs": [],
   "source": [
    "import json\n",
    "import urllib2\n",
    "import csv"
   ]
  },
  {
   "cell_type": "code",
   "execution_count": 2,
   "metadata": {
    "collapsed": true
   },
   "outputs": [],
   "source": [
    "\n",
    "task_ids = []\n",
    "with open('id_fishing_points_task.json') as data_file:    \n",
    "    data = json.load(data_file)\n",
    "    for d in data:\n",
    "        task_ids.append(d['id'])\n"
   ]
  },
  {
   "cell_type": "code",
   "execution_count": 6,
   "metadata": {
    "collapsed": false
   },
   "outputs": [],
   "source": [
    "task_ids = []\n",
    "data = []\n",
    "with open('id_fishing_points_task.csv') as csvfile:\n",
    "    reader = csv.DictReader(csvfile)\n",
    "    for row in reader:\n",
    "        task_ids.append(row['task__id'])\n",
    "        d = {}\n",
    "        d['info'] = {}\n",
    "        d['id'] = row['task__id']\n",
    "        d['info']= json.loads(row['task__info'])\n",
    "        data.append(d)\n",
    "\n"
   ]
  },
  {
   "cell_type": "code",
   "execution_count": 7,
   "metadata": {
    "collapsed": false
   },
   "outputs": [
    {
     "name": "stdout",
     "output_type": "stream",
     "text": [
      "{'info': {u'mmsi': u'224082260', u'year': u'2015', u'vesselType': u'Longliner', u'month': u'1'}, 'id': '6031'}\n"
     ]
    }
   ],
   "source": [
    "print data[0]"
   ]
  },
  {
   "cell_type": "code",
   "execution_count": 8,
   "metadata": {
    "collapsed": false
   },
   "outputs": [
    {
     "ename": "IOError",
     "evalue": "[Errno 2] No such file or directory: 'jsons/6367.json'",
     "output_type": "error",
     "traceback": [
      "\u001b[0;31m---------------------------------------------------------------------------\u001b[0m",
      "\u001b[0;31mIOError\u001b[0m                                   Traceback (most recent call last)",
      "\u001b[0;32m<ipython-input-8-9d6349a81a29>\u001b[0m in \u001b[0;36m<module>\u001b[0;34m()\u001b[0m\n\u001b[1;32m     16\u001b[0m     \u001b[0mlats\u001b[0m \u001b[0;34m=\u001b[0m \u001b[0minput_data\u001b[0m\u001b[0;34m[\u001b[0m\u001b[0;34m'lats'\u001b[0m\u001b[0;34m]\u001b[0m\u001b[0;34m\u001b[0m\u001b[0m\n\u001b[1;32m     17\u001b[0m \u001b[0;34m\u001b[0m\u001b[0m\n\u001b[0;32m---> 18\u001b[0;31m     \u001b[0mf\u001b[0m \u001b[0;34m=\u001b[0m \u001b[0mopen\u001b[0m\u001b[0;34m(\u001b[0m\u001b[0;34m\"jsons/\"\u001b[0m\u001b[0;34m+\u001b[0m\u001b[0mstr\u001b[0m\u001b[0;34m(\u001b[0m\u001b[0mt\u001b[0m\u001b[0;34m)\u001b[0m\u001b[0;34m+\u001b[0m\u001b[0;34m\".json\"\u001b[0m\u001b[0;34m,\u001b[0m\u001b[0;34m'rU'\u001b[0m\u001b[0;34m)\u001b[0m\u001b[0;34m\u001b[0m\u001b[0m\n\u001b[0m\u001b[1;32m     19\u001b[0m     \u001b[0mcontents\u001b[0m \u001b[0;34m=\u001b[0m \u001b[0mf\u001b[0m\u001b[0;34m.\u001b[0m\u001b[0mread\u001b[0m\u001b[0;34m(\u001b[0m\u001b[0;34m)\u001b[0m\u001b[0;34m\u001b[0m\u001b[0m\n\u001b[1;32m     20\u001b[0m     \u001b[0mf\u001b[0m\u001b[0;34m.\u001b[0m\u001b[0mclose\u001b[0m\u001b[0;34m(\u001b[0m\u001b[0;34m)\u001b[0m\u001b[0;34m\u001b[0m\u001b[0m\n",
      "\u001b[0;31mIOError\u001b[0m: [Errno 2] No such file or directory: 'jsons/6367.json'"
     ]
    }
   ],
   "source": [
    "for d in data:\n",
    "    t = d['id']\n",
    "    year = d['info']['year']\n",
    "    month = d['info']['month']\n",
    "    mmsi = d['info']['mmsi']\n",
    "    \n",
    "    \n",
    "    url = \"http://storage.googleapis.com/gfw-crowd/\"+str(mmsi)+\"_\"+str(year)+\"_\"+str(month)+\".json\"\n",
    "    response = urllib2.urlopen(url)\n",
    "    input_data = json.loads(response.read())\n",
    "\n",
    "        \n",
    "    sogs = input_data['sogs']\n",
    "    timestamps = input_data['timestamps']\n",
    "    lons = input_data['lons']\n",
    "    lats = input_data['lats']\n",
    "    \n",
    "    f = open(\"jsons/\"+str(t)+\".json\",'rU')\n",
    "    contents = f.read()\n",
    "    f.close()\n",
    "    results = json.loads(contents)\n",
    "    headers = []\n",
    "    fishingArrays = []\n",
    "    for response in results:\n",
    "        user_id = response['user_id']\n",
    "        if response['info'] != \"hello\":\n",
    "            r = json.loads(response['info'])\n",
    "            confidence = r['confidence']\n",
    "            if confidence != 'no_confidence':\n",
    "                vesselType = r['vesselType']\n",
    "                fishingArrayString = r['fishingArrayString']\n",
    "                fishingArrays.append([int(fishingArrayString[i]) for i in range(len(fishingArrayString))])\n",
    "                headers.append(\"user_id: \"+str(user_id)+\", \"+confidence)\n",
    "\n",
    "    if len(headers)>0:\n",
    "        with open(vesselType+\"_\"+str(mmsi)+\"_\"+str(year)+\"_\"+str(month)+'.csv', 'wb') as f:\n",
    "            writer = csv.writer(f)\n",
    "            theheader = ['mmsi','timestamp','speed','lat','lon'] + headers\n",
    "            writer.writerow(theheader)        \n",
    "            for i in range(len(lats)):\n",
    "                row = [mmsi, timestamps[i],sogs[i],lats[i],lons[i]]\n",
    "                for j in range(len(headers)):\n",
    "                    row += [fishingArrays[j][i]]\n",
    "                writer.writerow(row)\n",
    "\n"
   ]
  },
  {
   "cell_type": "code",
   "execution_count": null,
   "metadata": {
    "collapsed": true
   },
   "outputs": [],
   "source": []
  }
 ],
 "metadata": {
  "kernelspec": {
   "display_name": "Python 2",
   "language": "python",
   "name": "python2"
  },
  "language_info": {
   "codemirror_mode": {
    "name": "ipython",
    "version": 2
   },
   "file_extension": ".py",
   "mimetype": "text/x-python",
   "name": "python",
   "nbconvert_exporter": "python",
   "pygments_lexer": "ipython2",
   "version": "2.7.3"
  }
 },
 "nbformat": 4,
 "nbformat_minor": 0
}
