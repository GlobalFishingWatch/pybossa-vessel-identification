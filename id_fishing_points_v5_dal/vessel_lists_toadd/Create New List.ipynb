{
 "cells": [
  {
   "cell_type": "code",
   "execution_count": 1,
   "metadata": {
    "collapsed": true
   },
   "outputs": [],
   "source": [
    "import csv"
   ]
  },
  {
   "cell_type": "code",
   "execution_count": 10,
   "metadata": {
    "collapsed": false
   },
   "outputs": [],
   "source": [
    "\n",
    "vtracks = {}\n",
    "with open('../tasks_20160927A_dal.csv', 'rU') as csvfile:\n",
    "    reader = csv.DictReader(csvfile)\n",
    "    for row in reader:\n",
    "        mmsi = row['mmsi']\n",
    "        if mmsi not in vtracks:\n",
    "            vtracks[mmsi] = []\n",
    "        vtracks[mmsi].append(int(row['year'])*100+int(row['month']))\n",
    "        \n",
    "        "
   ]
  },
  {
   "cell_type": "code",
   "execution_count": 21,
   "metadata": {
    "collapsed": false
   },
   "outputs": [],
   "source": [
    "new_vtracks = {}\n",
    "rows = []\n",
    "with open('../tasks_20160927B.csv', 'rU') as csvfile:\n",
    "    reader = csv.DictReader(csvfile)\n",
    "    for row in reader:\n",
    "        mmsi = row['mmsi']\n",
    "        if mmsi not in new_vtracks:\n",
    "            new_vtracks[mmsi] = []\n",
    "        if len(new_vtracks[mmsi])<2 and mmsi in vtracks:\n",
    "            new_vtracks[mmsi].append(row)\n",
    "            rows.append(row)\n",
    "#         vtracks[mmsi].append(int(row['year'])*100+int(row['month']))"
   ]
  },
  {
   "cell_type": "code",
   "execution_count": 28,
   "metadata": {
    "collapsed": false
   },
   "outputs": [],
   "source": [
    "from random import shuffle\n",
    "shuffle(rows)\n"
   ]
  },
  {
   "cell_type": "code",
   "execution_count": 29,
   "metadata": {
    "collapsed": false
   },
   "outputs": [],
   "source": [
    "with open(\"../tasks_20150927B_dal.csv\", 'w') as csvfile:\n",
    "    fieldnames = [k for k in rows[0]]\n",
    "    writer = csv.DictWriter(csvfile, fieldnames=fieldnames)\n",
    "    writer.writeheader()\n",
    "    writer.writerows(rows\n",
    "                    )"
   ]
  }
 ],
 "metadata": {
  "kernelspec": {
   "display_name": "Python 2",
   "language": "python",
   "name": "python2"
  },
  "language_info": {
   "codemirror_mode": {
    "name": "ipython",
    "version": 2
   },
   "file_extension": ".py",
   "mimetype": "text/x-python",
   "name": "python",
   "nbconvert_exporter": "python",
   "pygments_lexer": "ipython2",
   "version": "2.7.3"
  }
 },
 "nbformat": 4,
 "nbformat_minor": 0
}
