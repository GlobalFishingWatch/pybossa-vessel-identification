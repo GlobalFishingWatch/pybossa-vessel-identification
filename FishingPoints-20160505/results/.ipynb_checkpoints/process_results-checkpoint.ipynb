{
 "cells": [
  {
   "cell_type": "code",
   "execution_count": 10,
   "metadata": {
    "collapsed": true
   },
   "outputs": [],
   "source": [
    "import json\n",
    "import urllib2\n",
    "import csv"
   ]
  },
  {
   "cell_type": "code",
   "execution_count": 2,
   "metadata": {
    "collapsed": true
   },
   "outputs": [],
   "source": [
    "\n",
    "task_ids = []\n",
    "with open('id_fishing_points_task.json') as data_file:    \n",
    "    data = json.load(data_file)\n",
    "    for d in data:\n",
    "        task_ids.append(d['id'])\n"
   ]
  },
  {
   "cell_type": "code",
   "execution_count": 3,
   "metadata": {
    "collapsed": false
   },
   "outputs": [
    {
     "name": "stdout",
     "output_type": "stream",
     "text": [
      "{u'info': {u'mmsi': u'224082260', u'year': u'2015', u'vesselType': u'Longliner', u'month': u'1'}, u'n_answers': 3, u'quorum': 0, u'created': u'2016-05-06T14:45:35.566112', u'calibration': 0, u'state': u'completed', u'project_id': 23, u'id': 6031, u'priority_0': 0.0}\n"
     ]
    }
   ],
   "source": [
    "print data[0]"
   ]
  },
  {
   "cell_type": "code",
   "execution_count": 16,
   "metadata": {
    "collapsed": false
   },
   "outputs": [],
   "source": [
    "for d in data:\n",
    "    t = d['id']\n",
    "    year = d['info']['year']\n",
    "    month = d['info']['month']\n",
    "    mmsi = d['info']['mmsi']\n",
    "    \n",
    "    \n",
    "    url = \"http://storage.googleapis.com/gfw-crowd/\"+str(mmsi)+\"_\"+str(year)+\"_\"+str(month)+\".json\"\n",
    "    response = urllib2.urlopen(url)\n",
    "    input_data = json.loads(response.read())\n",
    "\n",
    "        \n",
    "    sogs = input_data['sogs']\n",
    "    timestamps = input_data['timestamps']\n",
    "    lons = input_data['lons']\n",
    "    lats = input_data['lats']\n",
    "    \n",
    "    f = open(\"jsons/\"+str(t)+\".json\",'rU')\n",
    "    contents = f.read()\n",
    "    f.close()\n",
    "    results = json.loads(contents)\n",
    "    headers = []\n",
    "    fishingArrays = []\n",
    "    for response in results:\n",
    "        user_id = response['user_id']\n",
    "        r = json.loads(response['info'])\n",
    "        confidence = r['confidence']\n",
    "        if confidence != 'no_confidence':\n",
    "            vesselType = r['vesselType']\n",
    "            fishingArrayString = r['fishingArrayString']\n",
    "            fishingArrays.append([int(fishingArrayString[i]) for i in range(len(fishingArrayString))])\n",
    "            headers.append(\"user_id: \"+str(user_id)+\", \"+confidence)\n",
    "    \n",
    "    with open(vesselType+\"_\"+str(mmsi)+\"_\"+str(year)+\"_\"+str(month)+'.csv', 'wb') as f:\n",
    "        writer = csv.writer(f)\n",
    "        theheader = ['mmsi','timestamp','speed','lat','lon'] + headers\n",
    "        writer.writerow(theheader)        \n",
    "        for i in range(len(lats)):\n",
    "            row = [mmsi, timestamps[i],sogs[i],lats[i],lons[i]]\n",
    "            for j in range(len(headers)):\n",
    "                row += [fishingArrays[j][i]]\n",
    "            writer.writerow(row)\n",
    "            \n",
    "        \n",
    "    break\n"
   ]
  },
  {
   "cell_type": "code",
   "execution_count": null,
   "metadata": {
    "collapsed": true
   },
   "outputs": [],
   "source": []
  }
 ],
 "metadata": {
  "kernelspec": {
   "display_name": "Python 2",
   "language": "python",
   "name": "python2"
  },
  "language_info": {
   "codemirror_mode": {
    "name": "ipython",
    "version": 2
   },
   "file_extension": ".py",
   "mimetype": "text/x-python",
   "name": "python",
   "nbconvert_exporter": "python",
   "pygments_lexer": "ipython2",
   "version": "2.7.3"
  }
 },
 "nbformat": 4,
 "nbformat_minor": 0
}
