{
 "cells": [
  {
   "cell_type": "code",
   "execution_count": 1,
   "metadata": {
    "collapsed": true
   },
   "outputs": [],
   "source": [
    "import json\n",
    "import csv\n",
    "\n",
    "# list of users is here http://crowd.globalfishingwatch.org/api/user?limit=100\n",
    "\n",
    "# This notebook takes the tasks json file and the tas_runs json file from \n",
    "# identify random vessels adn lines up the results, producing a csv file\n",
    "# called random_vessel_classification.csv\n",
    "# Make sure that the files id_random_vessels_tasks.json and id_random_vessels_task_runs.json\n",
    "# are in the same directory as this file."
   ]
  },
  {
   "cell_type": "code",
   "execution_count": 5,
   "metadata": {
    "collapsed": false
   },
   "outputs": [],
   "source": [
    "f = open('id_seismic_vessels_tasks.json', 'rU')\n",
    "tasks = json.loads(f.read())\n",
    "f.close()\n",
    "\n",
    "f = open('id_seismic_vessels_task_runs.json','rU')\n",
    "task_runs = json.loads(f.read())\n",
    "f.close()"
   ]
  },
  {
   "cell_type": "code",
   "execution_count": 6,
   "metadata": {
    "collapsed": true
   },
   "outputs": [],
   "source": [
    "# was easier to copy and paste http://crowd.globalfishingwatch.org/api/user?limit=100 then programatically\n",
    "# download it, but that also means that you probably have to go and get this data again if it is updatedçy\n",
    "users =[{\"locale\": \"en\", \"name\": \"davidkroodsma\", \"created\": \"2016-01-01T19:02:37.484806\", \"fullname\": \"David Kroodsma\"}, {\"locale\": \"en\", \"name\": \"bjornbergman\", \"created\": \"2016-01-02T17:41:56.596637\", \"fullname\": \"Bjorn Bergman\"}, {\"locale\": \"en\", \"name\": \"davidkroodsmathe2nd\", \"created\": \"2016-01-08T03:05:25.181515\", \"fullname\": \"David Kroodsma the 2nd\"}, {\"locale\": \"en\", \"name\": \"alexwilson\", \"created\": \"2016-01-08T08:38:31.791302\", \"fullname\": \"Alex Wilson\"}, {\"locale\": \"en\", \"name\": \"chris\", \"created\": \"2016-01-08T17:04:58.441540\", \"fullname\": \"Chris\"}, {\"locale\": \"en\", \"name\": \"enriquetuya\", \"created\": \"2016-01-19T15:46:18.012860\", \"fullname\": \"Enrique Tuya\"}, {\"locale\": \"en\", \"name\": \"kristinaboerder\", \"created\": \"2016-01-19T18:57:51.891476\", \"fullname\": \"Kristina Boerder\"}, {\"locale\": \"en\", \"name\": \"vaiduke2\", \"created\": \"2016-01-21T15:03:22.087286\", \"fullname\": \"Vaida Lilionyte\"}, {\"locale\": \"en\", \"name\": \"katepepler\", \"created\": \"2016-02-01T16:24:38.348003\", \"fullname\": \"Kate Pepler\"}, {\"locale\": \"en\", \"name\": \"stephanielewis\", \"created\": \"2016-02-01T16:56:45.814824\", \"fullname\": \"Stephanie Lewis\"}, {\"locale\": \"en\", \"name\": \"AlexCerra\", \"created\": \"2016-02-01T19:16:51.470060\", \"fullname\": \"Alexander Cerra\"}, {\"locale\": \"en\", \"name\": \"juliecharbonneau\", \"created\": \"2016-02-01T23:07:18.623497\", \"fullname\": \"Julie Charbonneau\"}, {\"locale\": \"en\", \"name\": \"ninagalle\", \"created\": \"2016-02-02T03:20:45.923182\", \"fullname\": \"Nina Galle\"}, {\"locale\": \"en\", \"name\": \"sidneyblack-rotchin\", \"created\": \"2016-02-02T15:15:18.889919\", \"fullname\": \"Sidney Black-Rotchin\"}, {\"locale\": \"en\", \"name\": \"daivdtest\", \"created\": \"2016-02-04T18:25:16.909258\", \"fullname\": \"David\"}, {\"locale\": \"en\", \"name\": \"cailinburmaster\", \"created\": \"2016-02-04T19:07:46.558313\", \"fullname\": \"Cailin Burmaster\"}, {\"locale\": \"en\", \"name\": \"elizabethnagel\", \"created\": \"2016-02-04T19:55:55.974887\", \"fullname\": \"Elizabeth Nagel\"}, {\"locale\": \"en\", \"name\": \"isabelfleisher\", \"created\": \"2016-02-07T21:03:22.224515\", \"fullname\": \"isabel fleisher\"}, {\"locale\": \"en\", \"name\": \"ciarawillis\", \"created\": \"2016-02-10T00:50:03.605317\", \"fullname\": \"Ciara Willis\"}, {\"locale\": \"en\", \"name\": \"clairechristie\", \"created\": \"2016-02-10T01:50:44.444883\", \"fullname\": \"Claire Christie \"}]"
   ]
  },
  {
   "cell_type": "code",
   "execution_count": 14,
   "metadata": {
    "collapsed": false,
    "scrolled": false
   },
   "outputs": [
    {
     "name": "stdout",
     "output_type": "stream",
     "text": [
      "{\"mmsi\":\"273366690\",\"vesselType\":\"This vessel self-reports as a \"fishing vessel\" on marine traffic\",\"search\":\"Yes\",\"search_url\":\"\"}\n"
     ]
    }
   ],
   "source": [
    "results = {}\n",
    "the_users = []\n",
    "\n",
    "\n",
    "rows = []\n",
    "for r in task_runs:\n",
    "    task_id = r['task_id']\n",
    "    try:\n",
    "        rows.append(json.loads(r['info']))\n",
    "    except:\n",
    "        print r['info']\n",
    "#     try:\n",
    "#         vtype = json.loads(r['info'].replace(\"\\t\",\"\"))['vesselType']\n",
    "#         mmsi = json.loads(r['info'].replace(\"\\t\",\"\"))['mmsi']\n",
    "#         user = users[r['user_id']-1]['fullname']\n",
    "#         if user not in the_users:\n",
    "#             the_users.append(user)\n",
    "#         if task_id not in results:\n",
    "#             results[task_id]={}\n",
    "#         results[task_id][user] = vtype\n",
    "#         results[task_id]['mmsi'] = mmsi\n",
    "#         results[task_id]['url'] = \"http://crowd.globalfishingwatch.org/project/id_random_vessels/task/\"+str(task_id)\n",
    "#     except:\n",
    "#         print r['info']\n",
    "\n",
    "# print the_users\n",
    "\n",
    "\n"
   ]
  },
  {
   "cell_type": "code",
   "execution_count": 15,
   "metadata": {
    "collapsed": true
   },
   "outputs": [],
   "source": [
    "import pandas as pd\n",
    "df = pd.DataFrame(rows)"
   ]
  },
  {
   "cell_type": "code",
   "execution_count": 27,
   "metadata": {
    "collapsed": false
   },
   "outputs": [],
   "source": [
    "df = df.sort_values(by=['mmsi'])"
   ]
  },
  {
   "cell_type": "code",
   "execution_count": 35,
   "metadata": {
    "collapsed": false
   },
   "outputs": [],
   "source": [
    "results = {}\n",
    "mmsi = 0\n",
    "for index, row in df.iterrows():\n",
    "    if row['mmsi'] != mmsi:\n",
    "        mmsi = row['mmsi']\n",
    "        results[mmsi] = []\n",
    "    results[mmsi].append(row['vesselType'])\n",
    "    "
   ]
  },
  {
   "cell_type": "code",
   "execution_count": 39,
   "metadata": {
    "collapsed": false
   },
   "outputs": [],
   "source": [
    "with open(\"results.txt\", 'w') as f:\n",
    "    for mmsi in results:\n",
    "        f.write(mmsi)\n",
    "        if len(set(results[mmsi])) == 1:\n",
    "            f.write(\"\\t\"+results[mmsi][0])\n",
    "        else:\n",
    "            f.write(\"\\tdisagree\")\n",
    "        for t in results[mmsi]:\n",
    "            f.write(\"\\t\"+t)\n",
    "        f.write(\"\\n\")\n"
   ]
  },
  {
   "cell_type": "code",
   "execution_count": 5,
   "metadata": {
    "collapsed": false
   },
   "outputs": [],
   "source": [
    "for r in results:\n",
    "    for t in the_users:\n",
    "        if t not in results[r]:\n",
    "            results[r][t]=''"
   ]
  },
  {
   "cell_type": "code",
   "execution_count": 6,
   "metadata": {
    "collapsed": false
   },
   "outputs": [],
   "source": [
    "header = ['url','mmsi'] + the_users\n",
    "rows = []\n",
    "for r in results:\n",
    "    row = [results[r]['url'],results[r]['mmsi']]\n",
    "    for t in the_users:\n",
    "        row += [results[r][t]]\n",
    "    rows.append(row)\n",
    "\n"
   ]
  },
  {
   "cell_type": "code",
   "execution_count": 7,
   "metadata": {
    "collapsed": false
   },
   "outputs": [],
   "source": [
    "with open('random_vessel_classification.csv', 'w') as f:\n",
    "    writer = csv.writer(f)\n",
    "    writer.writerow(header)\n",
    "    writer.writerows(rows)\n"
   ]
  },
  {
   "cell_type": "code",
   "execution_count": null,
   "metadata": {
    "collapsed": true
   },
   "outputs": [],
   "source": []
  }
 ],
 "metadata": {
  "kernelspec": {
   "display_name": "Python 2",
   "language": "python",
   "name": "python2"
  },
  "language_info": {
   "codemirror_mode": {
    "name": "ipython",
    "version": 2
   },
   "file_extension": ".py",
   "mimetype": "text/x-python",
   "name": "python",
   "nbconvert_exporter": "python",
   "pygments_lexer": "ipython2",
   "version": "2.7.13"
  }
 },
 "nbformat": 4,
 "nbformat_minor": 0
}
