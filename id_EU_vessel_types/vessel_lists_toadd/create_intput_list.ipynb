{
 "cells": [
  {
   "cell_type": "code",
   "execution_count": 10,
   "metadata": {
    "collapsed": true
   },
   "outputs": [],
   "source": [
    "import csv\n",
    "import operator\n"
   ]
  },
  {
   "cell_type": "code",
   "execution_count": 5,
   "metadata": {
    "collapsed": true
   },
   "outputs": [],
   "source": [
    "gear_codes = {\"DRB\":\"Boat dredges\",\n",
    "\"DRH\":\"Hand dredges operating from a boat\",\n",
    "\"HMD\":\"Mechanised dredges including suction dredges\",\n",
    "\"GNC\":\"Encircling gillnets\",\n",
    "\"GND\":\"Drift nets\",\n",
    "\"GNS\":\"Set gillnets (anchored)\",\n",
    "\"GTN\":\"Combined gillnets-trammel nets\",\n",
    "\"GTR\":\"Trammel nets\",\n",
    "\"HAR\":\"Harpoons\",\n",
    "\"LHM\":\"Handlines and pole-lines (mechanised)\",\n",
    "\"LHP\":\"Handlines and pole-lines (hand operated)\",\n",
    "\"LLD\":\"Drifting longlines\",\n",
    "\"LLS\":\"Set longlines\",\n",
    "\"LTL\":\"Trolling lines\",\n",
    "\"LNB\":\"Boat-operated lift nets\",\n",
    "\"LNS\":\"Shore-operated stationary lift nets\",\n",
    "\"NO\":\"No gear\",\n",
    "\"SB\":\"Beach seines\",\n",
    "\"SDN\":\"Danish seines\",\n",
    "\"SPR\":\"Pair seines\",\n",
    "\"SSC\":\"Scottish seines\",\n",
    "\"LA\":\"Lampara nets\",\n",
    "\"PS\":\"Purse seines\",\n",
    "\"FPO\":\"Pots and Traps\",\n",
    "\"OTB\":\"Bottom otter trawls\",\n",
    "\"OTM\":\"Midwater otter trawls\",\n",
    "\"OTT\":\"Otter twin trawls\",\n",
    "\"PTB\":\"Bottom pair trawls\",\n",
    "\"PTM\":\"Midwater pair trawls\",\n",
    "\"TBB\":\"Beam trawls\",\n",
    "\"NK\":\"Unknown gear\"}"
   ]
  },
  {
   "cell_type": "code",
   "execution_count": 22,
   "metadata": {
    "collapsed": false
   },
   "outputs": [],
   "source": [
    "counts = {}\n",
    "gears = {}\n",
    "\n",
    "with open(\"EU_Gear_Types.csv\",'rb') as csvfile:\n",
    "    reader = csv.DictReader(csvfile)\n",
    "    for row in reader:\n",
    "        c = gear_codes[row['Gear_Main_Code']]\n",
    "        if c not in counts:\n",
    "            counts[c] = 0\n",
    "        if counts[c]<10:\n",
    "            c2 = gear_codes[row['Gear_Sec_Code']]\n",
    "            loa = row['Loa']\n",
    "            mmsi = row['a_mmsi']\n",
    "            outputs.append([mmsi,c,c2,loa])\n",
    "        counts[c]+=1\n"
   ]
  },
  {
   "cell_type": "code",
   "execution_count": 27,
   "metadata": {
    "collapsed": false
   },
   "outputs": [],
   "source": [
    "with open(\"Gear_Types_to_Load.csv\",\"wb\") as f:\n",
    "    writer = csv.writer(f)\n",
    "    writer.writerow([\"mmsi\",\"main_gear\",\"secondary_gear\",\"Loa\"])\n",
    "    writer.writerows(outputs)"
   ]
  },
  {
   "cell_type": "code",
   "execution_count": 8,
   "metadata": {
    "collapsed": false
   },
   "outputs": [
    {
     "name": "stdout",
     "output_type": "stream",
     "text": [
      "{'GNS': 397, 'GNC': 2, 'GND': 13, 'DRB': 175, 'PS': 672, 'PTM': 29, 'LA': 1, 'LLS': 216, 'SPR': 3, 'PTB': 38, 'HMD': 44, 'LNB': 2, 'FPO': 119, 'GTN': 4, 'GTR': 84, 'LHP': 37, 'LTL': 6, 'TBB': 493, 'OTM': 287, 'DRH': 14, 'OTB': 2850, 'NO': 1, 'SDN': 33, 'LLD': 182, 'OTT': 63, 'SSC': 23}\n"
     ]
    }
   ],
   "source": [
    "print counts"
   ]
  },
  {
   "cell_type": "code",
   "execution_count": 12,
   "metadata": {
    "collapsed": false
   },
   "outputs": [],
   "source": [
    "cs = sorted(counts.items(), key=operator.itemgetter(1))"
   ]
  },
  {
   "cell_type": "code",
   "execution_count": 37,
   "metadata": {
    "collapsed": false
   },
   "outputs": [
    {
     "name": "stdout",
     "output_type": "stream",
     "text": [
      "1 \tLampara nets\n",
      "1 \tNo gear\n",
      "2 \tEncircling gillnets\n",
      "2 \tBoat-operated lift nets\n",
      "3 \tPair seines\n",
      "4 \tCombined gillnets-trammel nets\n",
      "6 \tTrolling lines\n",
      "13 \tDrift nets\n",
      "14 \tHand dredges operating from a boat\n",
      "23 \tScottish seines\n",
      "29 \tMidwater pair trawls\n",
      "33 \tDanish seines\n",
      "37 \tHandlines and pole-lines (hand operated)\n",
      "38 \tBottom pair trawls\n",
      "44 \tMechanised dredges including suction dredges\n",
      "63 \tOtter twin trawls\n",
      "84 \tTrammel nets\n",
      "119 \tPots and Traps\n",
      "175 \tBoat dredges\n",
      "182 \tDrifting longlines\n",
      "216 \tSet longlines\n",
      "287 \tMidwater otter trawls\n",
      "397 \tSet gillnets (anchored)\n",
      "493 \tBeam trawls\n",
      "672 \tPurse seines\n",
      "2850 \tBottom otter trawls\n"
     ]
    }
   ],
   "source": [
    "for c in cs:\n",
    "    print  c[1], \"\\t\", gear_codes[c[0]]"
   ]
  },
  {
   "cell_type": "code",
   "execution_count": 28,
   "metadata": {
    "collapsed": true
   },
   "outputs": [],
   "source": [
    "allrows = []\n",
    "\n",
    "with open(\"../tasks_20160921.csv\",'rb') as csvfile:\n",
    "    reader = csv.DictReader(csvfile)\n",
    "    for row in reader:\n",
    "        mm = row['mmsi']\n",
    "        months = row['months_2015']\n",
    "        for o in outputs:\n",
    "            if o[0] == mm:\n",
    "                allrows.append([mm,months]+o[1:])\n",
    "       \n"
   ]
  },
  {
   "cell_type": "code",
   "execution_count": 35,
   "metadata": {
    "collapsed": false,
    "scrolled": false
   },
   "outputs": [],
   "source": [
    "from operator import itemgetter\n",
    "allrows = sorted(allrows, key=itemgetter(2))\n",
    "\n",
    "with open(\"../tasks_20160921_codes.csv\",\"wb\") as f:\n",
    "    writer = csv.writer(f)\n",
    "    writer.writerow([\"mmsi\",\"months_2015\",\"main_gear\",\"secondary_gear\",\"Loa\"])\n",
    "    writer.writerows(allrows)"
   ]
  },
  {
   "cell_type": "code",
   "execution_count": null,
   "metadata": {
    "collapsed": true
   },
   "outputs": [],
   "source": [
    "# column 2 = Static /Towed\n",
    "# column 3 = Pelagic /Demersal\n",
    "\n",
    "demersal = [\"DRB\",\"T\",\"D\"],[\"DRH\",\"T\",\"D\"],[\"HMD\",\"T\",\"D\"],[\"GNC\",\"S\",\"DP\"],[\"GND\",\"S\",\"DP\"],\n",
    "[\"GNS\",\"S\",\"D\"],[\"GTN\",\"S\",\"DP\"],[\"GTR\",\"S\",\"DP\"],[\"HAR\",\"M\",\"P\"],[\"LHM\",\"S\",\"DP\"],[\"LHP\",\"S\",\"DP\"],\n",
    "[\"LLD\",\"S\",\"P\"],[\"LLS\",\"S\",\"D\"],[\"LTL\",\"M\",\"P\"],[\"LNB\",\"M\",\"P\"],[\"LNS\",\"M\",\"P\"],[\"NO\",\"N\",\"N\"],\n",
    "[\"SB\",\"T\",\"DP\"],[\"SDN\",\"T\",\"DP\"],[\"SPR\",\"T\",\"DP\"],[\"SSC\",\"T\",\"DP\"],[\"LA\",\"M\",\"P\"],[\"PS\",\"M\",\"P\"],\n",
    "[\"FPO\",\"S\",\"D\"],[\"OTB\",\"T\",\"D\"],[\"OTM\",\"T\",\"DP\"],[\"OTT\",\"T\",\"DP\"],[\"PTB\",\"T\",\"D\"],[\"PTM\",\"T\",\"DP\"],\n",
    "[\"TBB\",\"T\",\"D\"],[\"NK\",\"U\",\"U\"]"
   ]
  },
  {
   "cell_type": "code",
   "execution_count": null,
   "metadata": {
    "collapsed": true
   },
   "outputs": [],
   "source": []
  }
 ],
 "metadata": {
  "kernelspec": {
   "display_name": "Python 2",
   "language": "python",
   "name": "python2"
  },
  "language_info": {
   "codemirror_mode": {
    "name": "ipython",
    "version": 2
   },
   "file_extension": ".py",
   "mimetype": "text/x-python",
   "name": "python",
   "nbconvert_exporter": "python",
   "pygments_lexer": "ipython2",
   "version": "2.7.3"
  }
 },
 "nbformat": 4,
 "nbformat_minor": 0
}
